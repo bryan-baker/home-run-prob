{
 "cells": [
  {
   "cell_type": "code",
   "execution_count": 24,
   "id": "ed35b948",
   "metadata": {},
   "outputs": [],
   "source": [
    "import pandas as pd\n",
    "import numpy as np\n",
    "from pybaseball import statcast\n",
    "from pybaseball import cache\n",
    "cache.enable()"
   ]
  },
  {
   "cell_type": "code",
   "execution_count": 25,
   "id": "99ae98cb",
   "metadata": {},
   "outputs": [
    {
     "name": "stdout",
     "output_type": "stream",
     "text": [
      "This is a large query, it may take a moment to complete\n"
     ]
    },
    {
     "name": "stderr",
     "output_type": "stream",
     "text": [
      "100%|█████████████████████████████████████████| 101/101 [00:46<00:00,  2.17it/s]\n"
     ]
    },
    {
     "name": "stdout",
     "output_type": "stream",
     "text": [
      "This is a large query, it may take a moment to complete\n"
     ]
    },
    {
     "name": "stderr",
     "output_type": "stream",
     "text": [
      "100%|█████████████████████████████████████████| 101/101 [00:46<00:00,  2.17it/s]\n"
     ]
    },
    {
     "name": "stdout",
     "output_type": "stream",
     "text": [
      "This is a large query, it may take a moment to complete\n"
     ]
    },
    {
     "name": "stderr",
     "output_type": "stream",
     "text": [
      "100%|█████████████████████████████████████████| 101/101 [00:45<00:00,  2.21it/s]\n"
     ]
    },
    {
     "name": "stdout",
     "output_type": "stream",
     "text": [
      "This is a large query, it may take a moment to complete\n"
     ]
    },
    {
     "name": "stderr",
     "output_type": "stream",
     "text": [
      "100%|█████████████████████████████████████████| 111/111 [00:49<00:00,  2.22it/s]\n"
     ]
    },
    {
     "name": "stdout",
     "output_type": "stream",
     "text": [
      "This is a large query, it may take a moment to complete\n"
     ]
    },
    {
     "name": "stderr",
     "output_type": "stream",
     "text": [
      "100%|█████████████████████████████████████████| 104/104 [00:48<00:00,  2.15it/s]\n"
     ]
    },
    {
     "name": "stdout",
     "output_type": "stream",
     "text": [
      "This is a large query, it may take a moment to complete\n"
     ]
    },
    {
     "name": "stderr",
     "output_type": "stream",
     "text": [
      "100%|█████████████████████████████████████████| 104/104 [00:47<00:00,  2.17it/s]\n"
     ]
    }
   ],
   "source": [
    "df1 = statcast(start_dt='2015-04-05', end_dt='2015-07-14')\n",
    "df2 = statcast(start_dt='2016-04-03', end_dt='2016-07-12')\n",
    "df3 = statcast(start_dt='2017-04-02', end_dt='2017-07-11')\n",
    "df4 = statcast(start_dt='2018-03-29', end_dt='2018-07-17')\n",
    "df5 = statcast(start_dt='2019-03-28', end_dt='2019-07-09')\n",
    "df6 = statcast(start_dt='2021-04-01', end_dt='2021-07-13')"
   ]
  },
  {
   "cell_type": "code",
   "execution_count": 39,
   "id": "726c67d4",
   "metadata": {},
   "outputs": [
    {
     "name": "stdout",
     "output_type": "stream",
     "text": [
      "This is a large query, it may take a moment to complete\n",
      "Skipping offseason dates\n"
     ]
    },
    {
     "name": "stderr",
     "output_type": "stream",
     "text": [
      "100%|█████████████████████████████████████████| 125/125 [00:57<00:00,  2.16it/s]\n"
     ]
    }
   ],
   "source": [
    "df = statcast(start_dt='2022-01-01', end_dt='2022-07-17')"
   ]
  },
  {
   "cell_type": "code",
   "execution_count": 33,
   "id": "8104a28c",
   "metadata": {},
   "outputs": [
    {
     "data": {
      "text/plain": [
       "R    392439\n",
       "Name: game_type, dtype: int64"
      ]
     },
     "execution_count": 33,
     "metadata": {},
     "output_type": "execute_result"
    }
   ],
   "source": [
    "df2.game_type.value_counts()"
   ]
  },
  {
   "cell_type": "code",
   "execution_count": 32,
   "id": "e0ca6446",
   "metadata": {},
   "outputs": [],
   "source": [
    "df2 = df2[df2.game_type != 'S']\n"
   ]
  },
  {
   "cell_type": "code",
   "execution_count": 35,
   "id": "dffdbf31",
   "metadata": {},
   "outputs": [],
   "source": [
    "merged = pd.concat([df1,df2,df3,df4,df5,df6])\n"
   ]
  },
  {
   "cell_type": "code",
   "execution_count": 36,
   "id": "bb895c0e",
   "metadata": {},
   "outputs": [],
   "source": [
    "merged = merged[merged['bb_type']=='fly_ball']"
   ]
  },
  {
   "cell_type": "code",
   "execution_count": 38,
   "id": "1e28c39e",
   "metadata": {},
   "outputs": [],
   "source": [
    "merged.to_csv('merged_fb.csv')"
   ]
  },
  {
   "cell_type": "code",
   "execution_count": 41,
   "id": "d11e208f",
   "metadata": {},
   "outputs": [],
   "source": [
    "df = df[df['bb_type']=='fly_ball']"
   ]
  },
  {
   "cell_type": "code",
   "execution_count": 43,
   "id": "cb416713",
   "metadata": {},
   "outputs": [],
   "source": [
    "df.to_csv('fb_2022.csv')"
   ]
  },
  {
   "cell_type": "code",
   "execution_count": null,
   "id": "a7a9b840",
   "metadata": {},
   "outputs": [],
   "source": []
  }
 ],
 "metadata": {
  "kernelspec": {
   "display_name": "Python 3 (ipykernel)",
   "language": "python",
   "name": "python3"
  },
  "language_info": {
   "codemirror_mode": {
    "name": "ipython",
    "version": 3
   },
   "file_extension": ".py",
   "mimetype": "text/x-python",
   "name": "python",
   "nbconvert_exporter": "python",
   "pygments_lexer": "ipython3",
   "version": "3.10.3"
  }
 },
 "nbformat": 4,
 "nbformat_minor": 5
}
